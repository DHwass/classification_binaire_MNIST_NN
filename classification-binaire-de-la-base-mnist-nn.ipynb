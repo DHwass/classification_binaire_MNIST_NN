{
 "cells": [
  {
   "cell_type": "markdown",
   "id": "564ffacf",
   "metadata": {
    "papermill": {
     "duration": 0.009212,
     "end_time": "2023-01-11T22:49:42.903451",
     "exception": false,
     "start_time": "2023-01-11T22:49:42.894239",
     "status": "completed"
    },
    "tags": []
   },
   "source": [
    "# DJEKOUN HOCINE OUASSIM - M1 SID"
   ]
  },
  {
   "cell_type": "markdown",
   "id": "a05a6370",
   "metadata": {
    "papermill": {
     "duration": 0.005078,
     "end_time": "2023-01-11T22:49:42.914556",
     "exception": false,
     "start_time": "2023-01-11T22:49:42.909478",
     "status": "completed"
    },
    "tags": []
   },
   "source": [
    "L'objectif de ce tp est la création d'un modele de classification pour la base MNIST sur le chiffre 5 uniquement. En d'autres termes ce modele pourra nous aider a prédire si X image contient le chiffre 5 ou non.\n",
    "Voici les differentes étapes par lequelles on va passer\n",
    "\n"
   ]
  },
  {
   "cell_type": "markdown",
   "id": "8dcb9ec8",
   "metadata": {
    "papermill": {
     "duration": 0.004981,
     "end_time": "2023-01-11T22:49:42.924995",
     "exception": false,
     "start_time": "2023-01-11T22:49:42.920014",
     "status": "completed"
    },
    "tags": []
   },
   "source": [
    "# SOMMAIRE \n",
    "### 1. L'importation des librairies \n",
    "### 2. Charger la base de données MNIST \n",
    "### 3. L'analyse des données\n",
    "### 4. Transformations sur les données\n",
    "### 5. Visualisation des données\n",
    "### 6. Entrainement du modele\n",
    "### 7. Test de la prédiction\n"
   ]
  },
  {
   "cell_type": "markdown",
   "id": "15c5de4c",
   "metadata": {
    "papermill": {
     "duration": 0.005037,
     "end_time": "2023-01-11T22:49:42.935304",
     "exception": false,
     "start_time": "2023-01-11T22:49:42.930267",
     "status": "completed"
    },
    "tags": []
   },
   "source": [
    "# 1. L'importation des librairies"
   ]
  },
  {
   "cell_type": "code",
   "execution_count": 1,
   "id": "f9e668fe",
   "metadata": {
    "execution": {
     "iopub.execute_input": "2023-01-11T22:49:42.948053Z",
     "iopub.status.busy": "2023-01-11T22:49:42.947409Z",
     "iopub.status.idle": "2023-01-11T22:49:51.045991Z",
     "shell.execute_reply": "2023-01-11T22:49:51.044761Z"
    },
    "papermill": {
     "duration": 8.108659,
     "end_time": "2023-01-11T22:49:51.049164",
     "exception": false,
     "start_time": "2023-01-11T22:49:42.940505",
     "status": "completed"
    },
    "tags": []
   },
   "outputs": [],
   "source": [
    "import numpy as np  \n",
    "import pandas as pd \n",
    "import matplotlib\n",
    "import matplotlib.pyplot as plt\n",
    "%matplotlib inline\n",
    "\n",
    "#Entrainement\n",
    "from sklearn.model_selection import train_test_split\n",
    "\n",
    "#Modele\n",
    "from keras.models import Sequential\n",
    "from keras.layers import Dense, Dropout\n",
    "from tensorflow import keras\n",
    "\n",
    "import random\n"
   ]
  },
  {
   "cell_type": "markdown",
   "id": "0b680d16",
   "metadata": {
    "papermill": {
     "duration": 0.005202,
     "end_time": "2023-01-11T22:49:51.060399",
     "exception": false,
     "start_time": "2023-01-11T22:49:51.055197",
     "status": "completed"
    },
    "tags": []
   },
   "source": [
    "# 2. Charger la base de données MNIST"
   ]
  },
  {
   "cell_type": "code",
   "execution_count": 2,
   "id": "f59a64ff",
   "metadata": {
    "execution": {
     "iopub.execute_input": "2023-01-11T22:49:51.074595Z",
     "iopub.status.busy": "2023-01-11T22:49:51.073897Z",
     "iopub.status.idle": "2023-01-11T22:49:52.137000Z",
     "shell.execute_reply": "2023-01-11T22:49:52.135639Z"
    },
    "papermill": {
     "duration": 1.073954,
     "end_time": "2023-01-11T22:49:52.139858",
     "exception": false,
     "start_time": "2023-01-11T22:49:51.065904",
     "status": "completed"
    },
    "tags": []
   },
   "outputs": [
    {
     "name": "stdout",
     "output_type": "stream",
     "text": [
      "Downloading data from https://storage.googleapis.com/tensorflow/tf-keras-datasets/mnist.npz\n",
      "11493376/11490434 [==============================] - 0s 0us/step\n",
      "11501568/11490434 [==============================] - 0s 0us/step\n"
     ]
    }
   ],
   "source": [
    "# La bibliothèque Keras nous offre la BDD MNIST (blanc sur noir)\n",
    "mnist = keras.datasets.mnist\n",
    "#On sépare notre base de données en deux partie \"test\" et \"train\" pour pouvoir mesurer les performances\n",
    "#de notre modele sur des données differentes de celles de l'entrainement\n",
    "(x_train, y_train), (x_test, y_test) = mnist.load_data()"
   ]
  },
  {
   "cell_type": "markdown",
   "id": "b886b6ec",
   "metadata": {
    "papermill": {
     "duration": 0.005483,
     "end_time": "2023-01-11T22:49:52.151330",
     "exception": false,
     "start_time": "2023-01-11T22:49:52.145847",
     "status": "completed"
    },
    "tags": []
   },
   "source": [
    "# 3.L'analyse des données"
   ]
  },
  {
   "cell_type": "markdown",
   "id": "491a88bc",
   "metadata": {
    "papermill": {
     "duration": 0.00553,
     "end_time": "2023-01-11T22:49:52.164651",
     "exception": false,
     "start_time": "2023-01-11T22:49:52.159121",
     "status": "completed"
    },
    "tags": []
   },
   "source": [
    "Un bloc optionel pour avoir une idée des données qu'on a entre les mains"
   ]
  },
  {
   "cell_type": "code",
   "execution_count": 3,
   "id": "46a2ffda",
   "metadata": {
    "execution": {
     "iopub.execute_input": "2023-01-11T22:49:52.178753Z",
     "iopub.status.busy": "2023-01-11T22:49:52.178326Z",
     "iopub.status.idle": "2023-01-11T22:49:52.620288Z",
     "shell.execute_reply": "2023-01-11T22:49:52.618883Z"
    },
    "papermill": {
     "duration": 0.452636,
     "end_time": "2023-01-11T22:49:52.623155",
     "exception": false,
     "start_time": "2023-01-11T22:49:52.170519",
     "status": "completed"
    },
    "tags": []
   },
   "outputs": [
    {
     "name": "stdout",
     "output_type": "stream",
     "text": [
      "Moyenne: 33.318421449829934\n",
      "Min: 0\n",
      "Max: 255\n",
      "Variance: 6172.850482291342\n",
      "Taille train: 60000\n",
      "Taille test: 10000\n"
     ]
    }
   ],
   "source": [
    "print(\"Moyenne:\", np.mean(x_train))\n",
    "print(\"Min:\", np.min(x_train))\n",
    "print(\"Max:\", np.max(x_train))\n",
    "print(\"Variance:\", np.var(x_train))\n",
    "print(\"Taille train:\", len(x_train)) \n",
    "print(\"Taille test:\", len(x_test)) "
   ]
  },
  {
   "cell_type": "markdown",
   "id": "7b3ba2a0",
   "metadata": {
    "papermill": {
     "duration": 0.005859,
     "end_time": "2023-01-11T22:49:52.635153",
     "exception": false,
     "start_time": "2023-01-11T22:49:52.629294",
     "status": "completed"
    },
    "tags": []
   },
   "source": [
    "# 4.Transformations sur les données"
   ]
  },
  {
   "cell_type": "markdown",
   "id": "d5eb90dd",
   "metadata": {
    "papermill": {
     "duration": 0.005613,
     "end_time": "2023-01-11T22:49:52.646964",
     "exception": false,
     "start_time": "2023-01-11T22:49:52.641351",
     "status": "completed"
    },
    "tags": []
   },
   "source": [
    "Voici toutes les modifications qu'on doit appliquer sur notre base de données pour atteindre l'objectif de ce TP"
   ]
  },
  {
   "cell_type": "markdown",
   "id": "6d7471ce",
   "metadata": {
    "papermill": {
     "duration": 0.00553,
     "end_time": "2023-01-11T22:49:52.658411",
     "exception": false,
     "start_time": "2023-01-11T22:49:52.652881",
     "status": "completed"
    },
    "tags": []
   },
   "source": [
    "## 4.1 Diviser les images MNIST"
   ]
  },
  {
   "cell_type": "code",
   "execution_count": 4,
   "id": "e05ac5fd",
   "metadata": {
    "execution": {
     "iopub.execute_input": "2023-01-11T22:49:52.673073Z",
     "iopub.status.busy": "2023-01-11T22:49:52.672598Z",
     "iopub.status.idle": "2023-01-11T22:49:52.908889Z",
     "shell.execute_reply": "2023-01-11T22:49:52.907675Z"
    },
    "papermill": {
     "duration": 0.246823,
     "end_time": "2023-01-11T22:49:52.911692",
     "exception": false,
     "start_time": "2023-01-11T22:49:52.664869",
     "status": "completed"
    },
    "tags": []
   },
   "outputs": [],
   "source": [
    "#Comme on l'a remarqué dans la partie \"Analyse des données\" la valeur minimum de chaque cellule est 0 et la valeur maximal est 255. Ce n'est rien d'autre que le code de couleur de chaque pixel 255 etant blanc et 0 totalement noir \n",
    "#on souhaite prend le gris comme reference , chaque pixel dépassant la couleur gris est concidéré blanche, autrement elle est considéré noir.\n",
    "x_train[x_train < 127] = 1\n",
    "x_train[x_train >= 127] = 0\n",
    "\n",
    "x_test[x_test < 127] = 1\n",
    "x_test[x_test >= 127] = 0\n",
    "\n",
    "\n",
    "#Puis, on définit une fonction qui divise par 4 la matrice representant chaque image\n",
    "def premiere_division(image):\n",
    "    hauteur, largeur = image.shape\n",
    "    \n",
    "    diviseur = largeur // 2\n",
    "    coin_haut_droit = image[:diviseur, :diviseur] \n",
    "    coin_haut_gauche = image[:diviseur, diviseur:] \n",
    "    coin_bas_droit = image[diviseur:, :diviseur] \n",
    "    coin_bas_gauche = image[diviseur:, diviseur:]\n",
    "\n",
    "    return coin_haut_droit, coin_haut_gauche, coin_bas_droit, coin_bas_gauche\n",
    "\n",
    "\n",
    "#La dimension voulue étant toujours pas atteinte, on redéfinit une autre fonction qui s'occupera de la deuxieme division par 4\n",
    "def deuxieme_division(image):\n",
    "    coin_haut_droit, coin_haut_gauche, coin_bas_droit, coin_bas_gauche = premiere_division(image)\n",
    "    nouvelle_image = premiere_division(coin_haut_droit), premiere_division(coin_haut_gauche), premiere_division(coin_bas_droit), premiere_division(coin_bas_gauche)\n",
    "    nouvelle_image = np.asarray(nouvelle_image)\n",
    "    nouvelle_image = nouvelle_image.reshape(16, 7, 7)\n",
    "    return nouvelle_image\n",
    "\n",
    "#A ce stade, nous avons atteint le découpage que l'on souhaitait appliquer, qui est que chaque image est sous forme de 16 matrices, chacune étant de dimension 7x7"
   ]
  },
  {
   "cell_type": "markdown",
   "id": "591b0964",
   "metadata": {
    "papermill": {
     "duration": 0.005638,
     "end_time": "2023-01-11T22:49:52.923751",
     "exception": false,
     "start_time": "2023-01-11T22:49:52.918113",
     "status": "completed"
    },
    "tags": []
   },
   "source": [
    "## 4.2 Calcul du pourcentage de noir"
   ]
  },
  {
   "cell_type": "markdown",
   "id": "e2ddda85",
   "metadata": {
    "papermill": {
     "duration": 0.00564,
     "end_time": "2023-01-11T22:49:52.935726",
     "exception": false,
     "start_time": "2023-01-11T22:49:52.930086",
     "status": "completed"
    },
    "tags": []
   },
   "source": [
    "On calcule le pourcentage de pixels noirs dans la sous-image de notre \"nouvelle_image\" en divisant le nombre de pixels noirs par 49 (nombre total de pixels dans chaque sous-image) et en multipliant par 100."
   ]
  },
  {
   "cell_type": "code",
   "execution_count": 5,
   "id": "f5f09f1f",
   "metadata": {
    "execution": {
     "iopub.execute_input": "2023-01-11T22:49:52.949432Z",
     "iopub.status.busy": "2023-01-11T22:49:52.948982Z",
     "iopub.status.idle": "2023-01-11T22:51:40.770920Z",
     "shell.execute_reply": "2023-01-11T22:51:40.769490Z"
    },
    "papermill": {
     "duration": 107.832377,
     "end_time": "2023-01-11T22:51:40.774067",
     "exception": false,
     "start_time": "2023-01-11T22:49:52.941690",
     "status": "completed"
    },
    "tags": []
   },
   "outputs": [],
   "source": [
    "def mnist_pourcentage(m):\n",
    "    nouvelle_mnist = []\n",
    "    for img in m:\n",
    "        image = deuxieme_division(img)\n",
    "        image_pourcentage = []\n",
    "        for i in range(16):\n",
    "            noirs = 0\n",
    "            for j in range(7):\n",
    "                for k in range(7):\n",
    "                    if(image[i][j][k] == 0):\n",
    "                        noirs += 1\n",
    "            image_pourcentage.append((noirs / 49) * 100)\n",
    "        nouvelle_mnist.append(image_pourcentage)\n",
    "    return nouvelle_mnist\n",
    "\n",
    "\n",
    "\n",
    "# Maintenant on applique cette fonction sur notre split_test_train dont on aura besoin pour entrainer notre modele et tester sa précision\n",
    "new_x_train = mnist_pourcentage(x_train)\n",
    "new_x_test = mnist_pourcentage(x_test)\n",
    "new_x_train = np.array(new_x_train)\n",
    "new_x_test = np.array(new_x_test)"
   ]
  },
  {
   "cell_type": "markdown",
   "id": "3435cbb2",
   "metadata": {
    "papermill": {
     "duration": 0.00559,
     "end_time": "2023-01-11T22:51:40.785893",
     "exception": false,
     "start_time": "2023-01-11T22:51:40.780303",
     "status": "completed"
    },
    "tags": []
   },
   "source": [
    "# 5.Visualisation des données"
   ]
  },
  {
   "cell_type": "code",
   "execution_count": 6,
   "id": "732d150d",
   "metadata": {
    "execution": {
     "iopub.execute_input": "2023-01-11T22:51:40.799685Z",
     "iopub.status.busy": "2023-01-11T22:51:40.799294Z",
     "iopub.status.idle": "2023-01-11T22:51:42.694249Z",
     "shell.execute_reply": "2023-01-11T22:51:42.692824Z"
    },
    "papermill": {
     "duration": 1.90521,
     "end_time": "2023-01-11T22:51:42.697053",
     "exception": false,
     "start_time": "2023-01-11T22:51:40.791843",
     "status": "completed"
    },
    "tags": []
   },
   "outputs": [
    {
     "data": {
      "image/png": "[encoded data removed]",
      "text/plain": [
       "<Figure size 432x288 with 1 Axes>"
      ]
     },
     "metadata": {
      "needs_background": "light"
     },
     "output_type": "display_data"
    },
    {
     "data": {
      "image/png": "[encoded data removed]",
      "text/plain": [
       "<Figure size 432x288 with 1 Axes>"
      ]
     },
     "metadata": {
      "needs_background": "light"
     },
     "output_type": "display_data"
    },
    {
     "data": {
      "image/png": "[encoded data removed]",
      "text/plain": [
       "<Figure size 432x288 with 1 Axes>"
      ]
     },
     "metadata": {
      "needs_background": "light"
     },
     "output_type": "display_data"
    },
    {
     "data": {
      "image/png": "[encoded data removed]",
      "text/plain": [
       "<Figure size 432x288 with 1 Axes>"
      ]
     },
     "metadata": {
      "needs_background": "light"
     },
     "output_type": "display_data"
    },
    {
     "data": {
      "image/png": "[encoded data removed]",
      "text/plain": [
       "<Figure size 432x288 with 1 Axes>"
      ]
     },
     "metadata": {
      "needs_background": "light"
     },
     "output_type": "display_data"
    },
    {
     "data": {
      "image/png": "[encoded data removed]",
      "text/plain": [
       "<Figure size 432x288 with 1 Axes>"
      ]
     },
     "metadata": {
      "needs_background": "light"
     },
     "output_type": "display_data"
    },
    {
     "data": {
      "image/png": "[encoded data removed]",
      "text/plain": [
       "<Figure size 432x288 with 1 Axes>"
      ]
     },
     "metadata": {
      "needs_background": "light"
     },
     "output_type": "display_data"
    },
    {
     "data": {
      "image/png": "[encoded data removed]",
      "text/plain": [
       "<Figure size 432x288 with 1 Axes>"
      ]
     },
     "metadata": {
      "needs_background": "light"
     },
     "output_type": "display_data"
    },
    {
     "data": {
      "image/png": "[encoded data removed]",
      "text/plain": [
       "<Figure size 432x288 with 1 Axes>"
      ]
     },
     "metadata": {
      "needs_background": "light"
     },
     "output_type": "display_data"
    },
    {
     "data": {
      "image/png": "[encoded data removed]",
      "text/plain": [
       "<Figure size 432x288 with 1 Axes>"
      ]
     },
     "metadata": {
      "needs_background": "light"
     },
     "output_type": "display_data"
    }
   ],
   "source": [
    "#Une visualsation basique des données sur lequels on a travaillé pour que vous puissiez avoir un apperçu des modifications\n",
    "for i in range(10):\n",
    "    plt.imshow(x_test[i], cmap='gray')\n",
    "    plt.show()"
   ]
  },
  {
   "cell_type": "markdown",
   "id": "5540db2b",
   "metadata": {
    "papermill": {
     "duration": 0.008267,
     "end_time": "2023-01-11T22:51:42.714486",
     "exception": false,
     "start_time": "2023-01-11T22:51:42.706219",
     "status": "completed"
    },
    "tags": []
   },
   "source": [
    "# 6. Entrainement du modele"
   ]
  },
  {
   "cell_type": "markdown",
   "id": "6ed44982",
   "metadata": {
    "papermill": {
     "duration": 0.008402,
     "end_time": "2023-01-11T22:51:42.732769",
     "exception": false,
     "start_time": "2023-01-11T22:51:42.724367",
     "status": "completed"
    },
    "tags": []
   },
   "source": [
    "Le modele qu'on va utiliser est bien évidemment un reseau de neuronnes qui va prendre comme entrées les differents pourcentages de noir dans les 16 matrices representant chaque image de la base de données (16 entrées) et une seule sortie vu que notre classification et binaire ( elle va s'effectuer sur un seul numéro qui est le 5 )"
   ]
  },
  {
   "cell_type": "code",
   "execution_count": 7,
   "id": "05c8d4df",
   "metadata": {
    "execution": {
     "iopub.execute_input": "2023-01-11T22:51:42.753221Z",
     "iopub.status.busy": "2023-01-11T22:51:42.752256Z",
     "iopub.status.idle": "2023-01-11T22:51:42.759053Z",
     "shell.execute_reply": "2023-01-11T22:51:42.757787Z"
    },
    "papermill": {
     "duration": 0.020162,
     "end_time": "2023-01-11T22:51:42.761640",
     "exception": false,
     "start_time": "2023-01-11T22:51:42.741478",
     "status": "completed"
    },
    "tags": []
   },
   "outputs": [],
   "source": [
    "# on limite la valeur à predire de notre training set et testing set à une seule (qui est 5)\n",
    "y_train_5= (y_train == 5) \n",
    "y_test_5= (y_test == 5)"
   ]
  },
  {
   "cell_type": "code",
   "execution_count": 8,
   "id": "89dccdbe",
   "metadata": {
    "execution": {
     "iopub.execute_input": "2023-01-11T22:51:42.782004Z",
     "iopub.status.busy": "2023-01-11T22:51:42.780490Z",
     "iopub.status.idle": "2023-01-11T22:52:04.266945Z",
     "shell.execute_reply": "2023-01-11T22:52:04.265451Z"
    },
    "papermill": {
     "duration": 21.499006,
     "end_time": "2023-01-11T22:52:04.269512",
     "exception": false,
     "start_time": "2023-01-11T22:51:42.770506",
     "status": "completed"
    },
    "tags": []
   },
   "outputs": [
    {
     "name": "stderr",
     "output_type": "stream",
     "text": [
      "2023-01-11 22:51:43.037408: I tensorflow/core/common_runtime/process_util.cc:146] Creating new thread pool with default inter op setting: 2. Tune using inter_op_parallelism_threads for best performance.\n",
      "2023-01-11 22:51:43.206060: I tensorflow/compiler/mlir/mlir_graph_optimization_pass.cc:185] None of the MLIR Optimization Passes are enabled (registered 2)\n"
     ]
    },
    {
     "name": "stdout",
     "output_type": "stream",
     "text": [
      "Epoch 1/5\n",
      "1875/1875 [==============================] - 4s 2ms/step - loss: 0.4340 - accuracy: 0.9185\n",
      "Epoch 2/5\n",
      "1875/1875 [==============================] - 3s 2ms/step - loss: 0.1185 - accuracy: 0.9556\n",
      "Epoch 3/5\n",
      "1875/1875 [==============================] - 3s 2ms/step - loss: 0.1081 - accuracy: 0.9603\n",
      "Epoch 4/5\n",
      "1875/1875 [==============================] - 3s 2ms/step - loss: 0.1030 - accuracy: 0.9627\n",
      "Epoch 5/5\n",
      "1875/1875 [==============================] - 3s 2ms/step - loss: 0.0995 - accuracy: 0.9637\n"
     ]
    },
    {
     "data": {
      "text/plain": [
       "<keras.callbacks.History at 0x7f97139f2610>"
      ]
     },
     "execution_count": 8,
     "metadata": {},
     "output_type": "execute_result"
    }
   ],
   "source": [
    "# Construction du modele\n",
    "#\"Flatten\" nous permet de redimensionner la matrice en un vecteur (16,)\n",
    "model = keras.Sequential([\n",
    "    keras.layers.Dense(32, input_shape=(16,), activation='relu'),\n",
    "    keras.layers.Dense(1, activation='sigmoid')\n",
    "])\n",
    "\n",
    "# Compilation de modele\n",
    "model.compile(optimizer='adam',\n",
    "              loss='BinaryCrossentropy',\n",
    "              metrics=['accuracy'])\n",
    "\n",
    "\n",
    "# Entrainement du modele\n",
    "model.fit(new_x_train, y_train_5, epochs=5)\n"
   ]
  },
  {
   "cell_type": "markdown",
   "id": "015e6f13",
   "metadata": {
    "papermill": {
     "duration": 0.026021,
     "end_time": "2023-01-11T22:52:04.322459",
     "exception": false,
     "start_time": "2023-01-11T22:52:04.296438",
     "status": "completed"
    },
    "tags": []
   },
   "source": [
    "# 7.Test de la prédiction"
   ]
  },
  {
   "cell_type": "code",
   "execution_count": 9,
   "id": "2190f355",
   "metadata": {
    "execution": {
     "iopub.execute_input": "2023-01-11T22:52:04.377102Z",
     "iopub.status.busy": "2023-01-11T22:52:04.376659Z",
     "iopub.status.idle": "2023-01-11T22:52:04.953554Z",
     "shell.execute_reply": "2023-01-11T22:52:04.952612Z"
    },
    "papermill": {
     "duration": 0.607676,
     "end_time": "2023-01-11T22:52:04.956555",
     "exception": false,
     "start_time": "2023-01-11T22:52:04.348879",
     "status": "completed"
    },
    "tags": []
   },
   "outputs": [
    {
     "data": {
      "image/png": "[encoded data removed]",
      "text/plain": [
       "<Figure size 432x288 with 1 Axes>"
      ]
     },
     "metadata": {
      "needs_background": "light"
     },
     "output_type": "display_data"
    },
    {
     "name": "stdout",
     "output_type": "stream",
     "text": [
      "cette image contient le numéro 5\n",
      "5\n"
     ]
    }
   ],
   "source": [
    "#Aprés une petite recherche on trouve que le 24 eme element de notre testing test est un 5(on peut le verifier grace a son libellé qui s'affiche en bas)\n",
    "#on test notre modele sur cette image\n",
    "prediction = model.predict(new_x_test)\n",
    "prediction[15]\n",
    "plt.imshow(x_test[15], cmap='gray')\n",
    "plt.show()\n",
    "if (prediction[15]> 0.5):\n",
    "     print(\"cette image contient le numéro 5\")\n",
    "else:\n",
    "     print(\"cette image ne contient pas le numéro 5\")\n",
    "print(y_test[15])"
   ]
  }
 ],
 "metadata": {
  "kernelspec": {
   "display_name": "Python 3",
   "language": "python",
   "name": "python3"
  },
  "language_info": {
   "codemirror_mode": {
    "name": "ipython",
    "version": 3
   },
   "file_extension": ".py",
   "mimetype": "text/x-python",
   "name": "python",
   "nbconvert_exporter": "python",
   "pygments_lexer": "ipython3",
   "version": "3.7.12"
  },
  "papermill": {
   "default_parameters": {},
   "duration": 154.328386,
   "end_time": "2023-01-11T22:52:07.911020",
   "environment_variables": {},
   "exception": null,
   "input_path": "__notebook__.ipynb",
   "output_path": "__notebook__.ipynb",
   "parameters": {},
   "start_time": "2023-01-11T22:49:33.582634",
   "version": "2.3.4"
  }
 },
 "nbformat": 4,
 "nbformat_minor": 5
}
